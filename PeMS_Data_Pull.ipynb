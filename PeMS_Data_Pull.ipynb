{
 "cells": [
  {
   "cell_type": "code",
   "execution_count": 23,
   "metadata": {},
   "outputs": [],
   "source": [
    "#imputs\n",
    "start_date = \"02/01/20 00:00\" #start with a Sunday\n",
    "weeks = 4\n",
    "station_id = \"404888\"\n",
    "Sun = \"off\"\n",
    "Mon = \"off\"\n",
    "Tues = \"on\"\n",
    "Weds = \"on\"\n",
    "Thurs = \"on\"\n",
    "Fri = \"off\"\n",
    "Sat = \"off\"\n",
    "Holidays = \"off\"\n",
    "frequency = \"hour\" #enter either \"5min\", \"week\", \"hour\", \"day\", or \"month\""
   ]
  },
  {
   "cell_type": "code",
   "execution_count": 24,
   "metadata": {},
   "outputs": [],
   "source": [
    "# enter path for where to store output\n",
    "path = \"/Users/clairecasey/Documents/PeMS_data_pull/data/pre_covid/\" + station_id +\".csv\""
   ]
  },
  {
   "cell_type": "code",
   "execution_count": 25,
   "metadata": {},
   "outputs": [],
   "source": [
    "import time\n",
    "import datetime\n",
    "import requests\n",
    "from bs4 import BeautifulSoup"
   ]
  },
  {
   "cell_type": "code",
   "execution_count": 26,
   "metadata": {},
   "outputs": [],
   "source": [
    "from secrets import username, password"
   ]
  },
  {
   "cell_type": "code",
   "execution_count": 27,
   "metadata": {},
   "outputs": [
    {
     "name": "stdout",
     "output_type": "stream",
     "text": [
      "http://pems.dot.ca.gov/?report_form=1&dnode=VDS&content=loops&export=&station_id=404888&s_time_id=1580518800&s_time_id_f=06%2F04%2F2019+00%3A00&e_time_id=1581120000&e_time_id_f=06%2F10%2F2019+23%3A59&tod=all&tod_from=0&tod_to=0&dow_0=off&dow_1=off&dow_2=on&dow_3=on&dow_4=on&dow_5=off&dow_6=off&holidays=off&q=flow&q2=speed&gn=hour&agg=on&lane1=on&lane2=on&lane3=on&lane4=on&lane5=on&lane6=on&html.x=52&html.y=14\n",
      "72\n",
      "http://pems.dot.ca.gov/?report_form=1&dnode=VDS&content=loops&export=&station_id=404888&s_time_id=1581123600&s_time_id_f=06%2F04%2F2019+00%3A00&e_time_id=1582329600&e_time_id_f=06%2F10%2F2019+23%3A59&tod=all&tod_from=0&tod_to=0&dow_0=off&dow_1=off&dow_2=on&dow_3=on&dow_4=on&dow_5=off&dow_6=off&holidays=off&q=flow&q2=speed&gn=hour&agg=on&lane1=on&lane2=on&lane3=on&lane4=on&lane5=on&lane6=on&html.x=52&html.y=14\n",
      "216\n",
      "http://pems.dot.ca.gov/?report_form=1&dnode=VDS&content=loops&export=&station_id=404888&s_time_id=1581728400&s_time_id_f=06%2F04%2F2019+00%3A00&e_time_id=1583539200&e_time_id_f=06%2F10%2F2019+23%3A59&tod=all&tod_from=0&tod_to=0&dow_0=off&dow_1=off&dow_2=on&dow_3=on&dow_4=on&dow_5=off&dow_6=off&holidays=off&q=flow&q2=speed&gn=hour&agg=on&lane1=on&lane2=on&lane3=on&lane4=on&lane5=on&lane6=on&html.x=52&html.y=14\n",
      "432\n",
      "http://pems.dot.ca.gov/?report_form=1&dnode=VDS&content=loops&export=&station_id=404888&s_time_id=1582333200&s_time_id_f=06%2F04%2F2019+00%3A00&e_time_id=1584748800&e_time_id_f=06%2F10%2F2019+23%3A59&tod=all&tod_from=0&tod_to=0&dow_0=off&dow_1=off&dow_2=on&dow_3=on&dow_4=on&dow_5=off&dow_6=off&holidays=off&q=flow&q2=speed&gn=hour&agg=on&lane1=on&lane2=on&lane3=on&lane4=on&lane5=on&lane6=on&html.x=52&html.y=14\n",
      "720\n"
     ]
    }
   ],
   "source": [
    "#convert dates to UNIX timestamp to be used in URL\n",
    "start_date_unix = time.mktime(datetime.datetime.strptime(start_date, \"%m/%d/%y %H:%M\").timetuple())\n",
    "\n",
    "#convert time to PST time\n",
    "start_date_pst1 = start_date_unix -25200 \n",
    "start_date_pst2 = int(start_date_pst1)\n",
    "\n",
    "weeks_total = list(range(1, weeks+1))\n",
    "output_body = []\n",
    "\n",
    "for week_num in weeks_total:\n",
    "    start_date_pst3 = start_date_pst2 + (3600*24*(week_num-1)*7)\n",
    "    end_date_pst = start_date_pst3 + (3600*24*((week_num*7)-1)) + (3600*23) #adding 23 hours so end date is 23:59\n",
    "    start_date_pst4 = str(start_date_pst3)\n",
    "    end_date_pst1 = str(end_date_pst)\n",
    "\n",
    "    REQUEST_URL = 'http://pems.dot.ca.gov/?report_form=1&dnode=VDS&content=loops&export=&station_id=' + station_id + '&s_time_id=' + start_date_pst4 + '&s_time_id_f=06%2F04%2F2019+00%3A00&e_time_id=' + end_date_pst1 + '&e_time_id_f=06%2F10%2F2019+23%3A59&tod=all&tod_from=0&tod_to=0&dow_0='+Sun+'&dow_1='+Mon+'&dow_2='+Tues+'&dow_3='+Weds+'&dow_4='+Thurs+'&dow_5='+Fri+'&dow_6='+Sat+'&holidays='+Holidays+'&q=flow&q2=speed&gn=' + frequency + '&agg=on&lane1=on&lane2=on&lane3=on&lane4=on&lane5=on&lane6=on&html.x=52&html.y=14'\n",
    "\n",
    "    #This URL will be the URL that your login form points to with the \"action\" tag.\n",
    "    login_url = 'http://pems.dot.ca.gov/'\n",
    "\n",
    "    payload = {\n",
    "        'username': username,\n",
    "        'password': password\n",
    "    }\n",
    "    #get table from url. Can change the class if you wanted to grab other elements from the webpage\n",
    "    with requests.Session() as session:\n",
    "        post = session.post(login_url, data=payload)\n",
    "        s = session.get(REQUEST_URL)\n",
    "\n",
    "        soup = BeautifulSoup(s.text, 'html.parser')\n",
    "        table = soup.find('table',class_='inlayTable')\n",
    "    #create header line for CSV output\n",
    "    header = table.thead.text\n",
    "    lines = header.split(\"\\n\")\n",
    "    output_header = [line for line in lines if line.strip() != \"\" and line.strip() != 'Data Quality']\n",
    "\n",
    "    #create body array for CSV output\n",
    "    body = table.tbody.text\n",
    "    body_short = body[1:(len(body)-2)]\n",
    "    lines_list = body_short.split(\"\\n\\n\\n\")\n",
    "\n",
    "    for row in lines_list:\n",
    "        array = row.split(\"\\n\")\n",
    "        output_body.append(array)\n",
    "\n"
   ]
  },
  {
   "cell_type": "code",
   "execution_count": 20,
   "metadata": {},
   "outputs": [],
   "source": [
    "    #write header and body to csv file\n",
    "    import csv\n",
    "    with open(path, 'w', newline='') as f:\n",
    "        writer = csv.writer(f)\n",
    "        writer.writerow(output_header)\n",
    "        writer.writerows(output_body)"
   ]
  },
  {
   "cell_type": "code",
   "execution_count": null,
   "metadata": {},
   "outputs": [],
   "source": []
  }
 ],
 "metadata": {
  "kernelspec": {
   "display_name": "Python 3",
   "language": "python",
   "name": "python3"
  },
  "language_info": {
   "codemirror_mode": {
    "name": "ipython",
    "version": 3
   },
   "file_extension": ".py",
   "mimetype": "text/x-python",
   "name": "python",
   "nbconvert_exporter": "python",
   "pygments_lexer": "ipython3",
   "version": "3.9.1"
  }
 },
 "nbformat": 4,
 "nbformat_minor": 2
}
